{
 "cells": [
  {
   "cell_type": "code",
   "execution_count": 1,
   "id": "8aecd14a",
   "metadata": {},
   "outputs": [
    {
     "name": "stdout",
     "output_type": "stream",
     "text": [
      "Good news everyone!\r\n",
      "This is part of the tutorial.\r\n",
      "The tutorial is about File Operations."
     ]
    }
   ],
   "source": [
    "!cat data_file/sample.txt"
   ]
  },
  {
   "cell_type": "code",
   "execution_count": null,
   "id": "49d9e5d6",
   "metadata": {},
   "outputs": [],
   "source": []
  }
 ],
 "metadata": {
  "kernelspec": {
   "display_name": "Python 3",
   "language": "python",
   "name": "python3"
  },
  "language_info": {
   "codemirror_mode": {
    "name": "ipython",
    "version": 3
   },
   "file_extension": ".py",
   "mimetype": "text/x-python",
   "name": "python",
   "nbconvert_exporter": "python",
   "pygments_lexer": "ipython3",
   "version": "3.8.8"
  }
 },
 "nbformat": 4,
 "nbformat_minor": 5
}
